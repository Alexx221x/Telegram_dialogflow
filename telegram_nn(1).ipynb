{
 "cells": [
  {
   "cell_type": "code",
   "execution_count": null,
   "metadata": {},
   "outputs": [],
   "source": [
    "from telegram.ext import Updater, CommandHandler, MessageHandler, Filters\n",
    "import apiai, json\n",
    "updater = Updater(token='TELEGRAM_TOKEN') \n",
    "dispatcher = updater.dispatcher\n",
    "# Обработка команд\n",
    "\n",
    "def strcomand(bot, update):\n",
    "    bot.send_message(chat_id=update.message.chat_id, text='Hello)')\n",
    "def txtmes(bot, update):\n",
    "    request = apiai.ApiAI('TOKEN_FROM_DIALOGFLOW').text_request() #\n",
    "    request.lang = 'ru' \n",
    "    request.session_id = 'BatlabAIBot'\n",
    "    request.query = update.message.text \n",
    "    responseJson = json.loads(request.getresponse().read().decode('utf-8'))\n",
    "    response = responseJson['result']['fulfillment']['speech'] \n",
    "\n",
    "    if response:\n",
    "        bot.send_message(chat_id=update.message.chat_id, text=response)\n",
    "    else:\n",
    "        bot.send_message(chat_id=update.message.chat_id, text='I dont undestand')\n",
    "start_command_handler = CommandHandler('start', strcomand)\n",
    "text_message_handler = MessageHandler(Filters.text, txtmes)\n",
    "dispatcher.add_handler(start_command_handler)\n",
    "dispatcher.add_handler(text_message_handler)\n",
    "updater.start_polling(clean=True)\n",
    "updater.idle()"
   ]
  },
  {
   "cell_type": "code",
   "execution_count": null,
   "metadata": {},
   "outputs": [],
   "source": [
    "import socks,socket\n",
    "socks.setdefaultproxy(socks.PROXY_TYPE_HTTP, 'some_address', 'port')#46.151.83.231\n",
    "socket.socket = socks.socksocket"
   ]
  }
 ],
 "metadata": {
  "kernelspec": {
   "display_name": "Python 3",
   "language": "python",
   "name": "python3"
  },
  "language_info": {
   "codemirror_mode": {
    "name": "ipython",
    "version": 3
   },
   "file_extension": ".py",
   "mimetype": "text/x-python",
   "name": "python",
   "nbconvert_exporter": "python",
   "pygments_lexer": "ipython3",
   "version": "3.7.3"
  }
 },
 "nbformat": 4,
 "nbformat_minor": 2
}
